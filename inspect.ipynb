{
 "cells": [
  {
   "cell_type": "code",
   "execution_count": 1,
   "metadata": {
    "collapsed": true
   },
   "outputs": [],
   "source": [
    "import pandas as pd\n",
    "\n",
    "df = pd.read_csv('female_clean_tshirt.csv')"
   ]
  },
  {
   "cell_type": "code",
   "execution_count": 2,
   "outputs": [
    {
     "name": "stdout",
     "output_type": "stream",
     "text": [
      "<class 'pandas.core.frame.DataFrame'>\n",
      "RangeIndex: 1986 entries, 0 to 1985\n",
      "Data columns (total 3 columns):\n",
      " #   Column  Non-Null Count  Dtype  \n",
      "---  ------  --------------  -----  \n",
      " 0   height  1986 non-null   float64\n",
      " 1   weight  1986 non-null   float64\n",
      " 2   size    1986 non-null   object \n",
      "dtypes: float64(2), object(1)\n",
      "memory usage: 46.7+ KB\n"
     ]
    }
   ],
   "source": [
    "df.info()"
   ],
   "metadata": {
    "collapsed": false,
    "pycharm": {
     "name": "#%%\n"
    }
   }
  },
  {
   "cell_type": "code",
   "execution_count": 3,
   "outputs": [
    {
     "data": {
      "text/plain": "            height       weight\ncount  1986.000000  1986.000000\nmean    162.847331    67.758207\nstd       6.419951    10.984646\nmin     140.900000    35.800000\n25%     158.625000    60.100000\n50%     162.600000    66.800000\n75%     167.200000    74.575000\nmax     182.900000   119.600000",
      "text/html": "<div>\n<style scoped>\n    .dataframe tbody tr th:only-of-type {\n        vertical-align: middle;\n    }\n\n    .dataframe tbody tr th {\n        vertical-align: top;\n    }\n\n    .dataframe thead th {\n        text-align: right;\n    }\n</style>\n<table border=\"1\" class=\"dataframe\">\n  <thead>\n    <tr style=\"text-align: right;\">\n      <th></th>\n      <th>height</th>\n      <th>weight</th>\n    </tr>\n  </thead>\n  <tbody>\n    <tr>\n      <th>count</th>\n      <td>1986.000000</td>\n      <td>1986.000000</td>\n    </tr>\n    <tr>\n      <th>mean</th>\n      <td>162.847331</td>\n      <td>67.758207</td>\n    </tr>\n    <tr>\n      <th>std</th>\n      <td>6.419951</td>\n      <td>10.984646</td>\n    </tr>\n    <tr>\n      <th>min</th>\n      <td>140.900000</td>\n      <td>35.800000</td>\n    </tr>\n    <tr>\n      <th>25%</th>\n      <td>158.625000</td>\n      <td>60.100000</td>\n    </tr>\n    <tr>\n      <th>50%</th>\n      <td>162.600000</td>\n      <td>66.800000</td>\n    </tr>\n    <tr>\n      <th>75%</th>\n      <td>167.200000</td>\n      <td>74.575000</td>\n    </tr>\n    <tr>\n      <th>max</th>\n      <td>182.900000</td>\n      <td>119.600000</td>\n    </tr>\n  </tbody>\n</table>\n</div>"
     },
     "execution_count": 3,
     "metadata": {},
     "output_type": "execute_result"
    }
   ],
   "source": [
    "df.describe()"
   ],
   "metadata": {
    "collapsed": false,
    "pycharm": {
     "name": "#%%\n"
    }
   }
  },
  {
   "cell_type": "code",
   "execution_count": null,
   "outputs": [],
   "source": [],
   "metadata": {
    "collapsed": false,
    "pycharm": {
     "name": "#%%\n"
    }
   }
  }
 ],
 "metadata": {
  "kernelspec": {
   "display_name": "Python 3",
   "language": "python",
   "name": "python3"
  },
  "language_info": {
   "codemirror_mode": {
    "name": "ipython",
    "version": 2
   },
   "file_extension": ".py",
   "mimetype": "text/x-python",
   "name": "python",
   "nbconvert_exporter": "python",
   "pygments_lexer": "ipython2",
   "version": "2.7.6"
  }
 },
 "nbformat": 4,
 "nbformat_minor": 0
}